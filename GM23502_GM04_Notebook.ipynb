{
 "cells": [
  {
   "cell_type": "markdown",
   "metadata": {},
   "source": [
    "# GM23502_GM04_2024. Code for question 1.2"
   ]
  },
  {
   "cell_type": "markdown",
   "metadata": {},
   "source": [
    "#### Load packages "
   ]
  },
  {
   "cell_type": "code",
   "execution_count": 1,
   "metadata": {
    "vscode": {
     "languageId": "r"
    }
   },
   "outputs": [
    {
     "name": "stderr",
     "output_type": "stream",
     "text": [
      "-- \u001b[1mAttaching core tidyverse packages\u001b[22m ------------------------ tidyverse 2.0.0 --\n",
      "\u001b[32mv\u001b[39m \u001b[34mdplyr    \u001b[39m 1.1.4     \u001b[32mv\u001b[39m \u001b[34mreadr    \u001b[39m 2.1.5\n",
      "\u001b[32mv\u001b[39m \u001b[34mforcats  \u001b[39m 1.0.0     \u001b[32mv\u001b[39m \u001b[34mstringr  \u001b[39m 1.5.1\n",
      "\u001b[32mv\u001b[39m \u001b[34mggplot2  \u001b[39m 3.5.0     \u001b[32mv\u001b[39m \u001b[34mtibble   \u001b[39m 3.2.1\n",
      "\u001b[32mv\u001b[39m \u001b[34mlubridate\u001b[39m 1.9.3     \u001b[32mv\u001b[39m \u001b[34mtidyr    \u001b[39m 1.3.1\n",
      "\u001b[32mv\u001b[39m \u001b[34mpurrr    \u001b[39m 1.0.2     \n",
      "-- \u001b[1mConflicts\u001b[22m ------------------------------------------ tidyverse_conflicts() --\n",
      "\u001b[31mx\u001b[39m \u001b[34mdplyr\u001b[39m::\u001b[32mfilter()\u001b[39m masks \u001b[34mstats\u001b[39m::filter()\n",
      "\u001b[31mx\u001b[39m \u001b[34mdplyr\u001b[39m::\u001b[32mlag()\u001b[39m    masks \u001b[34mstats\u001b[39m::lag()\n",
      "\u001b[36mi\u001b[39m Use the conflicted package (\u001b[3m\u001b[34m<http://conflicted.r-lib.org/>\u001b[39m\u001b[23m) to force all conflicts to become errors\n"
     ]
    }
   ],
   "source": [
    "if (!require(\"tidyverse\", quietly = TRUE))\n",
    "   install.packages(\"tidyverse\")\n",
    "library(tidyverse)"
   ]
  },
  {
   "cell_type": "markdown",
   "metadata": {},
   "source": [
    "#### Set working directory to where the data is stored and read the Excel file with the rare variants data"
   ]
  },
  {
   "cell_type": "code",
   "execution_count": 2,
   "metadata": {
    "vscode": {
     "languageId": "r"
    }
   },
   "outputs": [
    {
     "data": {
      "text/html": [
       "<table class=\"dataframe\">\n",
       "<caption>A tibble: 6 x 3</caption>\n",
       "<thead>\n",
       "\t<tr><th scope=col>symbol</th><th scope=col>cases</th><th scope=col>ctrls</th></tr>\n",
       "\t<tr><th scope=col>&lt;chr&gt;</th><th scope=col>&lt;dbl&gt;</th><th scope=col>&lt;dbl&gt;</th></tr>\n",
       "</thead>\n",
       "<tbody>\n",
       "\t<tr><td>A1BG   </td><td>3</td><td>13</td></tr>\n",
       "\t<tr><td>A1CF   </td><td>3</td><td>13</td></tr>\n",
       "\t<tr><td>A2M    </td><td>5</td><td>33</td></tr>\n",
       "\t<tr><td>A2ML1  </td><td>7</td><td>52</td></tr>\n",
       "\t<tr><td>A3GALT2</td><td>3</td><td>16</td></tr>\n",
       "\t<tr><td>A4GALT </td><td>1</td><td>14</td></tr>\n",
       "</tbody>\n",
       "</table>\n"
      ],
      "text/latex": [
       "A tibble: 6 x 3\n",
       "\\begin{tabular}{lll}\n",
       " symbol & cases & ctrls\\\\\n",
       " <chr> & <dbl> & <dbl>\\\\\n",
       "\\hline\n",
       "\t A1BG    & 3 & 13\\\\\n",
       "\t A1CF    & 3 & 13\\\\\n",
       "\t A2M     & 5 & 33\\\\\n",
       "\t A2ML1   & 7 & 52\\\\\n",
       "\t A3GALT2 & 3 & 16\\\\\n",
       "\t A4GALT  & 1 & 14\\\\\n",
       "\\end{tabular}\n"
      ],
      "text/markdown": [
       "\n",
       "A tibble: 6 x 3\n",
       "\n",
       "| symbol &lt;chr&gt; | cases &lt;dbl&gt; | ctrls &lt;dbl&gt; |\n",
       "|---|---|---|\n",
       "| A1BG    | 3 | 13 |\n",
       "| A1CF    | 3 | 13 |\n",
       "| A2M     | 5 | 33 |\n",
       "| A2ML1   | 7 | 52 |\n",
       "| A3GALT2 | 3 | 16 |\n",
       "| A4GALT  | 1 | 14 |\n",
       "\n"
      ],
      "text/plain": [
       "  symbol  cases ctrls\n",
       "1 A1BG    3     13   \n",
       "2 A1CF    3     13   \n",
       "3 A2M     5     33   \n",
       "4 A2ML1   7     52   \n",
       "5 A3GALT2 3     16   \n",
       "6 A4GALT  1     14   "
      ]
     },
     "metadata": {},
     "output_type": "display_data"
    }
   ],
   "source": [
    "setwd(\"~/Desktop/GM23502_GM04_2024-main/\")\n",
    "RVAS_data <- readxl::read_excel(\"RVAS_counts.xlsx\")\n",
    "head(RVAS_data)"
   ]
  },
  {
   "cell_type": "markdown",
   "metadata": {},
   "source": [
    "#### Create empty data frame in which the Odds ratio, 95% confidence intervals, P value, and adjusted P value will be stored with a row for every gene. Add row and column names\n"
   ]
  },
  {
   "cell_type": "code",
   "execution_count": 3,
   "metadata": {
    "vscode": {
     "languageId": "r"
    }
   },
   "outputs": [],
   "source": [
    "OR_CIs_and_pval <- data.frame(matrix(nrow = 19282, ncol = 4))\n",
    "rownames(OR_CIs_and_pval) <- RVAS_data$symbol\n",
    "colnames(OR_CIs_and_pval) <- c(\"Odds ratio\", \"95% CIs\", \"P value\", \"Adj. P value\")"
   ]
  },
  {
   "cell_type": "markdown",
   "metadata": {},
   "source": [
    "#### Create For loop in which Fisher's exact test is run for every gene and the OR, 95% CIs, P value, and adjusted P value is added to the empty data frame\n"
   ]
  },
  {
   "cell_type": "code",
   "execution_count": 4,
   "metadata": {
    "vscode": {
     "languageId": "r"
    }
   },
   "outputs": [],
   "source": [
    "for(i in 1:19282){\n",
    "\n",
    "# Create a 2x2 table (test) with number of cases and controls with and without a variant in each gene. \n",
    "# The first line extracts the number of cases and controls with a variant in the gene. The second line \n",
    "# obtains the number of cases and controls without a variant in the gene by subtracting the number of \n",
    "# cases and controls with a variant in the gene from the total number of cases and controls.\n",
    "  test <- RVAS_data[i, 2:3] \n",
    "  test <- rbind(test, c(1038 - test[1,1], 6385 - test[1,2])) \n",
    "  fisher <- fisher.test(test) # Run Fisher's exact test\n",
    "# Extract the Odds ratio, 95% CIs, and P value, and run Bonferroni’s correction and store it in \"final_values\"\n",
    "  final_values <- c(round(fisher[[\"estimate\"]][[\"odds ratio\"]], digits = 3), # Extract odds ratio\n",
    "  paste0(round(fisher[[\"conf.int\"]][[1]], digits = 3), \"-\",               \n",
    "    round(fisher[[\"conf.int\"]][[2]], digits = 3)), # Extract 95% CIs\n",
    "    fisher[[\"p.value\"]], # Extract P value\n",
    "    # Run Bonferroni's correction \n",
    "    p.adjust(fisher[[\"p.value\"]], method = \"bonferroni\", n = 19282)) \n",
    "# Add values to empty data frame \n",
    " OR_CIs_and_pval[i,] <- final_values \n",
    "}"
   ]
  },
  {
   "cell_type": "markdown",
   "metadata": {},
   "source": [
    "#### Make OR, P value, and Adjusted P value columns of class numeric"
   ]
  },
  {
   "cell_type": "code",
   "execution_count": 5,
   "metadata": {
    "vscode": {
     "languageId": "r"
    }
   },
   "outputs": [],
   "source": [
    "OR_CIs_and_pval$`Odds ratio` <- as.numeric(OR_CIs_and_pval$`Odds ratio`)"
   ]
  },
  {
   "cell_type": "code",
   "execution_count": 6,
   "metadata": {
    "vscode": {
     "languageId": "r"
    }
   },
   "outputs": [],
   "source": [
    "OR_CIs_and_pval$`P value` <- as.numeric(OR_CIs_and_pval$`P value`)"
   ]
  },
  {
   "cell_type": "code",
   "execution_count": 7,
   "metadata": {
    "vscode": {
     "languageId": "r"
    }
   },
   "outputs": [],
   "source": [
    "OR_CIs_and_pval$`Adj. P value` <- as.numeric(OR_CIs_and_pval$`Adj. P value`)"
   ]
  },
  {
   "cell_type": "code",
   "execution_count": 8,
   "metadata": {
    "vscode": {
     "languageId": "r"
    }
   },
   "outputs": [
    {
     "data": {
      "text/html": [
       "<table class=\"dataframe\">\n",
       "<caption>A data.frame: 6 x 4</caption>\n",
       "<thead>\n",
       "\t<tr><th></th><th scope=col>Odds ratio</th><th scope=col>95% CIs</th><th scope=col>P value</th><th scope=col>Adj. P value</th></tr>\n",
       "\t<tr><th></th><th scope=col>&lt;dbl&gt;</th><th scope=col>&lt;chr&gt;</th><th scope=col>&lt;dbl&gt;</th><th scope=col>&lt;dbl&gt;</th></tr>\n",
       "</thead>\n",
       "<tbody>\n",
       "\t<tr><th scope=row>A1BG</th><td>1.421</td><td>0.259-5.182</td><td>0.4813903</td><td>1</td></tr>\n",
       "\t<tr><th scope=row>A1CF</th><td>1.421</td><td>0.259-5.182</td><td>0.4813903</td><td>1</td></tr>\n",
       "\t<tr><th scope=row>A2M</th><td>0.932</td><td>0.283-2.409</td><td>1.0000000</td><td>1</td></tr>\n",
       "\t<tr><th scope=row>A2ML1</th><td>0.827</td><td>0.316-1.834</td><td>0.8499874</td><td>1</td></tr>\n",
       "\t<tr><th scope=row>A3GALT2</th><td>1.154</td><td>0.215-4.041</td><td>0.7415049</td><td>1</td></tr>\n",
       "\t<tr><th scope=row>A4GALT</th><td>0.439</td><td>0.01-2.89  </td><td>0.7099963</td><td>1</td></tr>\n",
       "</tbody>\n",
       "</table>\n"
      ],
      "text/latex": [
       "A data.frame: 6 x 4\n",
       "\\begin{tabular}{r|llll}\n",
       "  & Odds ratio & 95\\% CIs & P value & Adj. P value\\\\\n",
       "  & <dbl> & <chr> & <dbl> & <dbl>\\\\\n",
       "\\hline\n",
       "\tA1BG & 1.421 & 0.259-5.182 & 0.4813903 & 1\\\\\n",
       "\tA1CF & 1.421 & 0.259-5.182 & 0.4813903 & 1\\\\\n",
       "\tA2M & 0.932 & 0.283-2.409 & 1.0000000 & 1\\\\\n",
       "\tA2ML1 & 0.827 & 0.316-1.834 & 0.8499874 & 1\\\\\n",
       "\tA3GALT2 & 1.154 & 0.215-4.041 & 0.7415049 & 1\\\\\n",
       "\tA4GALT & 0.439 & 0.01-2.89   & 0.7099963 & 1\\\\\n",
       "\\end{tabular}\n"
      ],
      "text/markdown": [
       "\n",
       "A data.frame: 6 x 4\n",
       "\n",
       "| <!--/--> | Odds ratio &lt;dbl&gt; | 95% CIs &lt;chr&gt; | P value &lt;dbl&gt; | Adj. P value &lt;dbl&gt; |\n",
       "|---|---|---|---|---|\n",
       "| A1BG | 1.421 | 0.259-5.182 | 0.4813903 | 1 |\n",
       "| A1CF | 1.421 | 0.259-5.182 | 0.4813903 | 1 |\n",
       "| A2M | 0.932 | 0.283-2.409 | 1.0000000 | 1 |\n",
       "| A2ML1 | 0.827 | 0.316-1.834 | 0.8499874 | 1 |\n",
       "| A3GALT2 | 1.154 | 0.215-4.041 | 0.7415049 | 1 |\n",
       "| A4GALT | 0.439 | 0.01-2.89   | 0.7099963 | 1 |\n",
       "\n"
      ],
      "text/plain": [
       "        Odds ratio 95% CIs     P value   Adj. P value\n",
       "A1BG    1.421      0.259-5.182 0.4813903 1           \n",
       "A1CF    1.421      0.259-5.182 0.4813903 1           \n",
       "A2M     0.932      0.283-2.409 1.0000000 1           \n",
       "A2ML1   0.827      0.316-1.834 0.8499874 1           \n",
       "A3GALT2 1.154      0.215-4.041 0.7415049 1           \n",
       "A4GALT  0.439      0.01-2.89   0.7099963 1           "
      ]
     },
     "metadata": {},
     "output_type": "display_data"
    }
   ],
   "source": [
    "head(OR_CIs_and_pval)"
   ]
  },
  {
   "cell_type": "markdown",
   "metadata": {},
   "source": [
    "#### Add OR, 95% CIs, P value, and adj. P value to the original dataset"
   ]
  },
  {
   "cell_type": "code",
   "execution_count": 9,
   "metadata": {
    "vscode": {
     "languageId": "r"
    }
   },
   "outputs": [
    {
     "data": {
      "text/html": [
       "<table class=\"dataframe\">\n",
       "<caption>A data.frame: 6 x 7</caption>\n",
       "<thead>\n",
       "\t<tr><th></th><th scope=col>symbol</th><th scope=col>cases</th><th scope=col>ctrls</th><th scope=col>Odds ratio</th><th scope=col>95% CIs</th><th scope=col>P value</th><th scope=col>Adj. P value</th></tr>\n",
       "\t<tr><th></th><th scope=col>&lt;chr&gt;</th><th scope=col>&lt;dbl&gt;</th><th scope=col>&lt;dbl&gt;</th><th scope=col>&lt;dbl&gt;</th><th scope=col>&lt;chr&gt;</th><th scope=col>&lt;dbl&gt;</th><th scope=col>&lt;dbl&gt;</th></tr>\n",
       "</thead>\n",
       "<tbody>\n",
       "\t<tr><th scope=row>A1BG</th><td>A1BG   </td><td>3</td><td>13</td><td>1.421</td><td>0.259-5.182</td><td>0.4813903</td><td>1</td></tr>\n",
       "\t<tr><th scope=row>A1CF</th><td>A1CF   </td><td>3</td><td>13</td><td>1.421</td><td>0.259-5.182</td><td>0.4813903</td><td>1</td></tr>\n",
       "\t<tr><th scope=row>A2M</th><td>A2M    </td><td>5</td><td>33</td><td>0.932</td><td>0.283-2.409</td><td>1.0000000</td><td>1</td></tr>\n",
       "\t<tr><th scope=row>A2ML1</th><td>A2ML1  </td><td>7</td><td>52</td><td>0.827</td><td>0.316-1.834</td><td>0.8499874</td><td>1</td></tr>\n",
       "\t<tr><th scope=row>A3GALT2</th><td>A3GALT2</td><td>3</td><td>16</td><td>1.154</td><td>0.215-4.041</td><td>0.7415049</td><td>1</td></tr>\n",
       "\t<tr><th scope=row>A4GALT</th><td>A4GALT </td><td>1</td><td>14</td><td>0.439</td><td>0.01-2.89  </td><td>0.7099963</td><td>1</td></tr>\n",
       "</tbody>\n",
       "</table>\n"
      ],
      "text/latex": [
       "A data.frame: 6 x 7\n",
       "\\begin{tabular}{r|lllllll}\n",
       "  & symbol & cases & ctrls & Odds ratio & 95\\% CIs & P value & Adj. P value\\\\\n",
       "  & <chr> & <dbl> & <dbl> & <dbl> & <chr> & <dbl> & <dbl>\\\\\n",
       "\\hline\n",
       "\tA1BG & A1BG    & 3 & 13 & 1.421 & 0.259-5.182 & 0.4813903 & 1\\\\\n",
       "\tA1CF & A1CF    & 3 & 13 & 1.421 & 0.259-5.182 & 0.4813903 & 1\\\\\n",
       "\tA2M & A2M     & 5 & 33 & 0.932 & 0.283-2.409 & 1.0000000 & 1\\\\\n",
       "\tA2ML1 & A2ML1   & 7 & 52 & 0.827 & 0.316-1.834 & 0.8499874 & 1\\\\\n",
       "\tA3GALT2 & A3GALT2 & 3 & 16 & 1.154 & 0.215-4.041 & 0.7415049 & 1\\\\\n",
       "\tA4GALT & A4GALT  & 1 & 14 & 0.439 & 0.01-2.89   & 0.7099963 & 1\\\\\n",
       "\\end{tabular}\n"
      ],
      "text/markdown": [
       "\n",
       "A data.frame: 6 x 7\n",
       "\n",
       "| <!--/--> | symbol &lt;chr&gt; | cases &lt;dbl&gt; | ctrls &lt;dbl&gt; | Odds ratio &lt;dbl&gt; | 95% CIs &lt;chr&gt; | P value &lt;dbl&gt; | Adj. P value &lt;dbl&gt; |\n",
       "|---|---|---|---|---|---|---|---|\n",
       "| A1BG | A1BG    | 3 | 13 | 1.421 | 0.259-5.182 | 0.4813903 | 1 |\n",
       "| A1CF | A1CF    | 3 | 13 | 1.421 | 0.259-5.182 | 0.4813903 | 1 |\n",
       "| A2M | A2M     | 5 | 33 | 0.932 | 0.283-2.409 | 1.0000000 | 1 |\n",
       "| A2ML1 | A2ML1   | 7 | 52 | 0.827 | 0.316-1.834 | 0.8499874 | 1 |\n",
       "| A3GALT2 | A3GALT2 | 3 | 16 | 1.154 | 0.215-4.041 | 0.7415049 | 1 |\n",
       "| A4GALT | A4GALT  | 1 | 14 | 0.439 | 0.01-2.89   | 0.7099963 | 1 |\n",
       "\n"
      ],
      "text/plain": [
       "        symbol  cases ctrls Odds ratio 95% CIs     P value   Adj. P value\n",
       "A1BG    A1BG    3     13    1.421      0.259-5.182 0.4813903 1           \n",
       "A1CF    A1CF    3     13    1.421      0.259-5.182 0.4813903 1           \n",
       "A2M     A2M     5     33    0.932      0.283-2.409 1.0000000 1           \n",
       "A2ML1   A2ML1   7     52    0.827      0.316-1.834 0.8499874 1           \n",
       "A3GALT2 A3GALT2 3     16    1.154      0.215-4.041 0.7415049 1           \n",
       "A4GALT  A4GALT  1     14    0.439      0.01-2.89   0.7099963 1           "
      ]
     },
     "metadata": {},
     "output_type": "display_data"
    }
   ],
   "source": [
    "RVAS_data <- cbind(RVAS_data, OR_CIs_and_pval)\n",
    "head(RVAS_data)"
   ]
  },
  {
   "cell_type": "markdown",
   "metadata": {},
   "source": [
    "#### Print the most significant genes"
   ]
  },
  {
   "cell_type": "code",
   "execution_count": 10,
   "metadata": {
    "vscode": {
     "languageId": "r"
    }
   },
   "outputs": [
    {
     "data": {
      "text/html": [
       "<table class=\"dataframe\">\n",
       "<caption>A grouped_df: 9 x 7</caption>\n",
       "<thead>\n",
       "\t<tr><th scope=col>symbol</th><th scope=col>cases</th><th scope=col>ctrls</th><th scope=col>Odds ratio</th><th scope=col>95% CIs</th><th scope=col>P value</th><th scope=col>Adj. P value</th></tr>\n",
       "\t<tr><th scope=col>&lt;chr&gt;</th><th scope=col>&lt;dbl&gt;</th><th scope=col>&lt;dbl&gt;</th><th scope=col>&lt;dbl&gt;</th><th scope=col>&lt;chr&gt;</th><th scope=col>&lt;dbl&gt;</th><th scope=col>&lt;dbl&gt;</th></tr>\n",
       "</thead>\n",
       "<tbody>\n",
       "\t<tr><td>BMPR2  </td><td>124</td><td>19</td><td>45.384</td><td>27.714-78.298</td><td>2.553311e-87</td><td>4.923294e-83</td></tr>\n",
       "\t<tr><td>GDF2   </td><td> 12</td><td> 6</td><td>12.427</td><td>4.305-40.467 </td><td>4.331957e-07</td><td>8.352879e-03</td></tr>\n",
       "\t<tr><td>TBX4   </td><td> 16</td><td>17</td><td> 5.862</td><td>2.762-12.383 </td><td>2.139353e-06</td><td>4.125101e-02</td></tr>\n",
       "\t<tr><td>EIF2AK4</td><td> 22</td><td>35</td><td> 3.927</td><td>2.185-6.917  </td><td>3.393746e-06</td><td>6.543822e-02</td></tr>\n",
       "\t<tr><td>TXNRD3 </td><td> 15</td><td>16</td><td> 5.834</td><td>2.678-12.644 </td><td>4.620400e-06</td><td>8.909055e-02</td></tr>\n",
       "\t<tr><td>AQP1   </td><td>  9</td><td> 5</td><td>11.154</td><td>3.349-42.478 </td><td>2.042324e-05</td><td>3.938009e-01</td></tr>\n",
       "\t<tr><td>FLNA   </td><td> 20</td><td>36</td><td> 3.464</td><td>1.892-6.175  </td><td>3.591936e-05</td><td>6.925971e-01</td></tr>\n",
       "\t<tr><td>ALPPL2 </td><td> 12</td><td>13</td><td> 5.731</td><td>2.383-13.665 </td><td>4.695290e-05</td><td>9.053459e-01</td></tr>\n",
       "\t<tr><td>ZZZ3   </td><td>  3</td><td>15</td><td> 1.231</td><td>0.228-4.362  </td><td>7.310934e-01</td><td>1.000000e+00</td></tr>\n",
       "</tbody>\n",
       "</table>\n"
      ],
      "text/latex": [
       "A grouped\\_df: 9 x 7\n",
       "\\begin{tabular}{lllllll}\n",
       " symbol & cases & ctrls & Odds ratio & 95\\% CIs & P value & Adj. P value\\\\\n",
       " <chr> & <dbl> & <dbl> & <dbl> & <chr> & <dbl> & <dbl>\\\\\n",
       "\\hline\n",
       "\t BMPR2   & 124 & 19 & 45.384 & 27.714-78.298 & 2.553311e-87 & 4.923294e-83\\\\\n",
       "\t GDF2    &  12 &  6 & 12.427 & 4.305-40.467  & 4.331957e-07 & 8.352879e-03\\\\\n",
       "\t TBX4    &  16 & 17 &  5.862 & 2.762-12.383  & 2.139353e-06 & 4.125101e-02\\\\\n",
       "\t EIF2AK4 &  22 & 35 &  3.927 & 2.185-6.917   & 3.393746e-06 & 6.543822e-02\\\\\n",
       "\t TXNRD3  &  15 & 16 &  5.834 & 2.678-12.644  & 4.620400e-06 & 8.909055e-02\\\\\n",
       "\t AQP1    &   9 &  5 & 11.154 & 3.349-42.478  & 2.042324e-05 & 3.938009e-01\\\\\n",
       "\t FLNA    &  20 & 36 &  3.464 & 1.892-6.175   & 3.591936e-05 & 6.925971e-01\\\\\n",
       "\t ALPPL2  &  12 & 13 &  5.731 & 2.383-13.665  & 4.695290e-05 & 9.053459e-01\\\\\n",
       "\t ZZZ3    &   3 & 15 &  1.231 & 0.228-4.362   & 7.310934e-01 & 1.000000e+00\\\\\n",
       "\\end{tabular}\n"
      ],
      "text/markdown": [
       "\n",
       "A grouped_df: 9 x 7\n",
       "\n",
       "| symbol &lt;chr&gt; | cases &lt;dbl&gt; | ctrls &lt;dbl&gt; | Odds ratio &lt;dbl&gt; | 95% CIs &lt;chr&gt; | P value &lt;dbl&gt; | Adj. P value &lt;dbl&gt; |\n",
       "|---|---|---|---|---|---|---|\n",
       "| BMPR2   | 124 | 19 | 45.384 | 27.714-78.298 | 2.553311e-87 | 4.923294e-83 |\n",
       "| GDF2    |  12 |  6 | 12.427 | 4.305-40.467  | 4.331957e-07 | 8.352879e-03 |\n",
       "| TBX4    |  16 | 17 |  5.862 | 2.762-12.383  | 2.139353e-06 | 4.125101e-02 |\n",
       "| EIF2AK4 |  22 | 35 |  3.927 | 2.185-6.917   | 3.393746e-06 | 6.543822e-02 |\n",
       "| TXNRD3  |  15 | 16 |  5.834 | 2.678-12.644  | 4.620400e-06 | 8.909055e-02 |\n",
       "| AQP1    |   9 |  5 | 11.154 | 3.349-42.478  | 2.042324e-05 | 3.938009e-01 |\n",
       "| FLNA    |  20 | 36 |  3.464 | 1.892-6.175   | 3.591936e-05 | 6.925971e-01 |\n",
       "| ALPPL2  |  12 | 13 |  5.731 | 2.383-13.665  | 4.695290e-05 | 9.053459e-01 |\n",
       "| ZZZ3    |   3 | 15 |  1.231 | 0.228-4.362   | 7.310934e-01 | 1.000000e+00 |\n",
       "\n"
      ],
      "text/plain": [
       "  symbol  cases ctrls Odds ratio 95% CIs       P value      Adj. P value\n",
       "1 BMPR2   124   19    45.384     27.714-78.298 2.553311e-87 4.923294e-83\n",
       "2 GDF2     12    6    12.427     4.305-40.467  4.331957e-07 8.352879e-03\n",
       "3 TBX4     16   17     5.862     2.762-12.383  2.139353e-06 4.125101e-02\n",
       "4 EIF2AK4  22   35     3.927     2.185-6.917   3.393746e-06 6.543822e-02\n",
       "5 TXNRD3   15   16     5.834     2.678-12.644  4.620400e-06 8.909055e-02\n",
       "6 AQP1      9    5    11.154     3.349-42.478  2.042324e-05 3.938009e-01\n",
       "7 FLNA     20   36     3.464     1.892-6.175   3.591936e-05 6.925971e-01\n",
       "8 ALPPL2   12   13     5.731     2.383-13.665  4.695290e-05 9.053459e-01\n",
       "9 ZZZ3      3   15     1.231     0.228-4.362   7.310934e-01 1.000000e+00"
      ]
     },
     "metadata": {},
     "output_type": "display_data"
    }
   ],
   "source": [
    "RVAS_data %>% group_by(`Adj. P value`) %>% slice_tail()"
   ]
  }
 ],
 "metadata": {
  "kernelspec": {
   "display_name": "R",
   "language": "R",
   "name": "ir"
  },
  "language_info": {
   "codemirror_mode": "r",
   "file_extension": ".r",
   "mimetype": "text/x-r-source",
   "name": "R",
   "pygments_lexer": "r",
   "version": "4.3.3"
  },
  "orig_nbformat": 4
 },
 "nbformat": 4,
 "nbformat_minor": 2
}
